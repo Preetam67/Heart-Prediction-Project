{
 "cells": [
  {
   "cell_type": "code",
   "execution_count": null,
   "id": "111f1352",
   "metadata": {},
   "outputs": [],
   "source": [
    "import warnings \n",
    "warnings.filterwarnings(\"ignore\")\n",
    "import pandas as pd\n",
    "import numpy as np\n",
    "import matplotlib.pyplot as plt\n",
    "import seaborn as sns\n",
    "import plotly.graph_objs as go\n",
    "import plotly.express as px"
   ]
  },
  {
   "cell_type": "code",
   "execution_count": null,
   "id": "41ae9dfa",
   "metadata": {},
   "outputs": [],
   "source": [
    "df=pd.read_csv(\"heart_failure_clinical_records_dataset.csv\")"
   ]
  },
  {
   "cell_type": "code",
   "execution_count": null,
   "id": "66036a81",
   "metadata": {},
   "outputs": [],
   "source": [
    "df.head()"
   ]
  },
  {
   "cell_type": "code",
   "execution_count": null,
   "id": "00a20527",
   "metadata": {},
   "outputs": [],
   "source": [
    "df.tail()"
   ]
  },
  {
   "cell_type": "code",
   "execution_count": null,
   "id": "d5c8274a",
   "metadata": {},
   "outputs": [],
   "source": [
    "df.shape\n"
   ]
  },
  {
   "cell_type": "code",
   "execution_count": null,
   "id": "03e3432a",
   "metadata": {},
   "outputs": [],
   "source": [
    "df.info()"
   ]
  },
  {
   "cell_type": "code",
   "execution_count": null,
   "id": "0414598b",
   "metadata": {},
   "outputs": [],
   "source": [
    "df.describe()"
   ]
  },
  {
   "cell_type": "code",
   "execution_count": null,
   "id": "202cc7ff",
   "metadata": {},
   "outputs": [],
   "source": [
    "df.isnull().sum()"
   ]
  },
  {
   "cell_type": "code",
   "execution_count": null,
   "id": "af3e5f09",
   "metadata": {},
   "outputs": [],
   "source": [
    "labels = ['No Diabetes','Diabetes']\n",
    "diabetes_yes = df[df['diabetes']==1]\n",
    "diabetes_no = df[df['diabetes']==0]\n",
    "values = [len(diabetes_no), len(diabetes_yes)]\n",
    "fig = go.Figure(data=[go.Pie(labels=labels, values=values, hole=.5)])\n",
    "fig.update_layout(\n",
    "    title_text=\"Analysis on Diabetes\")\n",
    "fig.show()"
   ]
  },
  {
   "cell_type": "code",
   "execution_count": null,
   "id": "6d395ea1",
   "metadata": {},
   "outputs": [],
   "source": [
    "fig=px.pie(df,values='diabetes',names='DEATH_EVENT',title='Death Analysis')\n",
    "fig.show()"
   ]
  },
  {
   "cell_type": "code",
   "execution_count": null,
   "id": "ecb6ddd2",
   "metadata": {},
   "outputs": [],
   "source": [
    "plt.figure(figsize=(10,10))\n",
    "sns.heatmap(df.corr(),vmin=-1,cmap='coolwarm',annot=True);"
   ]
  },
  {
   "cell_type": "code",
   "execution_count": null,
   "id": "6d464bd4",
   "metadata": {},
   "outputs": [],
   "source": [
    "ax=sns.barplot(x='high_blood_pressure',y='platelets',hue='DEATH_EVENT',data=df)\n",
    "plt.legend(loc=9)\n",
    "plt.show()"
   ]
  },
  {
   "cell_type": "code",
   "execution_count": null,
   "id": "9b6a3e77",
   "metadata": {},
   "outputs": [],
   "source": [
    "sns.distplot(df['creatinine_phosphokinase'], kde= True)\n",
    "plt.show()\n"
   ]
  },
  {
   "cell_type": "code",
   "execution_count": null,
   "id": "70df9d37",
   "metadata": {
    "scrolled": false
   },
   "outputs": [],
   "source": [
    "plt.figure(figsize=(15,5))\n",
    "plt.subplot(1,2,1)\n",
    "sns.kdeplot(df['creatinine_phosphokinase'])\n",
    "\n",
    "plt.subplot(1,2,2)\n",
    "sns.boxplot(df['creatinine_phosphokinase'])\n",
    "plt.show()"
   ]
  },
  {
   "cell_type": "code",
   "execution_count": null,
   "id": "5eaba993",
   "metadata": {},
   "outputs": [],
   "source": [
    "ax=sns.barplot(x='high_blood_pressure',y='platelets',hue='DEATH_EVENT',data=df)\n",
    "plt.legend(loc=9)\n",
    "plt.show()"
   ]
  },
  {
   "cell_type": "code",
   "execution_count": null,
   "id": "7d0514c6",
   "metadata": {},
   "outputs": [],
   "source": [
    "sns.distplot(df['creatinine_phosphokinase'], kde= True)\n",
    "plt.show()"
   ]
  },
  {
   "cell_type": "code",
   "execution_count": null,
   "id": "8caa33b4",
   "metadata": {},
   "outputs": [],
   "source": [
    "plt.figure(figsize=(15,5))\n",
    "plt.subplot(1,2,1)\n",
    "sns.kdeplot(df['creatinine_phosphokinase'])\n",
    "\n",
    "plt.subplot(1,2,2)\n",
    "sns.boxplot(df['creatinine_phosphokinase'])\n",
    "plt.show()"
   ]
  },
  {
   "cell_type": "markdown",
   "id": "ea7d799c",
   "metadata": {},
   "source": [
    "# LogisticRegression"
   ]
  },
  {
   "cell_type": "code",
   "execution_count": null,
   "id": "e925f7dc",
   "metadata": {},
   "outputs": [],
   "source": [
    "from sklearn.model_selection import train_test_split,GridSearchCV\n",
    "from sklearn.metrics import confusion_matrix,accuracy_score"
   ]
  },
  {
   "cell_type": "code",
   "execution_count": null,
   "id": "32e555f7",
   "metadata": {},
   "outputs": [],
   "source": [
    "Feature=['age','creatinine_phosphokinase','ejection_fraction','platelets','serum_creatinine','serum_sodium','sex','time']\n",
    "x=df[Feature]\n",
    "y=df[\"DEATH_EVENT\"]"
   ]
  },
  {
   "cell_type": "code",
   "execution_count": null,
   "id": "7c476290",
   "metadata": {},
   "outputs": [],
   "source": [
    "x_train,x_test,y_train,y_test=train_test_split(x,y,test_size=0.2,random_state=2)"
   ]
  },
  {
   "cell_type": "code",
   "execution_count": null,
   "id": "e9102838",
   "metadata": {},
   "outputs": [],
   "source": [
    "from sklearn.linear_model import LogisticRegression"
   ]
  },
  {
   "cell_type": "code",
   "execution_count": null,
   "id": "c8b74540",
   "metadata": {},
   "outputs": [],
   "source": [
    "log_re=LogisticRegression()"
   ]
  },
  {
   "cell_type": "code",
   "execution_count": null,
   "id": "fb77c57e",
   "metadata": {},
   "outputs": [],
   "source": [
    "log_re.fit(x_train,y_train)\n",
    "log_re_pred=log_re.predict(x_test)"
   ]
  },
  {
   "cell_type": "code",
   "execution_count": null,
   "id": "60b4b664",
   "metadata": {},
   "outputs": [],
   "source": [
    "log_acc=accuracy_score(y_test,log_re_pred)\n",
    "print(\"Logistic Accuracy Score: \",\"{:.2f}%\".format(100*log_acc))"
   ]
  },
  {
   "cell_type": "code",
   "execution_count": null,
   "id": "0519d376",
   "metadata": {},
   "outputs": [],
   "source": [
    "from sklearn.metrics import classification_report \n",
    "from sklearn.linear_model import LogisticRegression\n",
    "\n",
    "model1 = LogisticRegression(random_state=1) \n",
    "model1.fit(x_train, y_train)  \n",
    "\n",
    "y_pred1 = model1.predict(x_test) \n",
    "print(classification_report(y_test, y_pred1))"
   ]
  },
  {
   "cell_type": "markdown",
   "id": "0c6be46c",
   "metadata": {},
   "source": [
    "# KNeighborsClassfier"
   ]
  },
  {
   "cell_type": "code",
   "execution_count": null,
   "id": "cbc57d30",
   "metadata": {},
   "outputs": [],
   "source": [
    "from sklearn.neighbors import KNeighborsClassifier"
   ]
  },
  {
   "cell_type": "code",
   "execution_count": null,
   "id": "cced30f0",
   "metadata": {},
   "outputs": [],
   "source": [
    "knn=KNeighborsClassifier(n_neighbors=7)"
   ]
  },
  {
   "cell_type": "code",
   "execution_count": null,
   "id": "9b29ee29",
   "metadata": {},
   "outputs": [],
   "source": [
    "knn.fit(x_train,y_train)"
   ]
  },
  {
   "cell_type": "code",
   "execution_count": null,
   "id": "8bd4e53d",
   "metadata": {},
   "outputs": [],
   "source": [
    "predictions=knn.predict(x_test)"
   ]
  },
  {
   "cell_type": "code",
   "execution_count": null,
   "id": "33072c50",
   "metadata": {},
   "outputs": [],
   "source": [
    "predictions"
   ]
  },
  {
   "cell_type": "code",
   "execution_count": null,
   "id": "06e756f5",
   "metadata": {},
   "outputs": [],
   "source": [
    "from sklearn.metrics import classification_report"
   ]
  },
  {
   "cell_type": "code",
   "execution_count": null,
   "id": "9357059f",
   "metadata": {},
   "outputs": [],
   "source": [
    "print(classification_report(y_test,predictions))"
   ]
  },
  {
   "cell_type": "code",
   "execution_count": null,
   "id": "03e918f8",
   "metadata": {},
   "outputs": [],
   "source": [
    "import pickle"
   ]
  },
  {
   "cell_type": "code",
   "execution_count": null,
   "id": "d03504af",
   "metadata": {},
   "outputs": [],
   "source": [
    "pickle.dump(log_re, open('heart.pkl', 'wb'))"
   ]
  },
  {
   "cell_type": "code",
   "execution_count": null,
   "id": "8a4469d9",
   "metadata": {},
   "outputs": [],
   "source": [
    "loadedmodel=pickle.load(open('heart.pkl','rb'))"
   ]
  },
  {
   "cell_type": "code",
   "execution_count": null,
   "id": "f2f162dd",
   "metadata": {},
   "outputs": [],
   "source": [
    "loadedmodel"
   ]
  },
  {
   "cell_type": "code",
   "execution_count": null,
   "id": "d06fcee4",
   "metadata": {},
   "outputs": [],
   "source": [
    "loadedmodel.predict([[55.0,7861,38,263358.03,1.1,136,1,6]])"
   ]
  },
  {
   "cell_type": "code",
   "execution_count": null,
   "id": "abc61022",
   "metadata": {},
   "outputs": [],
   "source": []
  },
  {
   "cell_type": "code",
   "execution_count": null,
   "id": "8acaf3e7",
   "metadata": {},
   "outputs": [],
   "source": []
  }
 ],
 "metadata": {
  "kernelspec": {
   "display_name": "Python 3 (ipykernel)",
   "language": "python",
   "name": "python3"
  },
  "language_info": {
   "codemirror_mode": {
    "name": "ipython",
    "version": 3
   },
   "file_extension": ".py",
   "mimetype": "text/x-python",
   "name": "python",
   "nbconvert_exporter": "python",
   "pygments_lexer": "ipython3",
   "version": "3.12.0"
  },
  "vscode": {
   "interpreter": {
    "hash": "8af0865475fc386125be7426097e5f14afe0b8f863cce9243f5f01698b224645"
   }
  }
 },
 "nbformat": 4,
 "nbformat_minor": 5
}
